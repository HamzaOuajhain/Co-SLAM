{
 "cells": [
  {
   "cell_type": "markdown",
   "id": "1b472b62-a8d4-4dd8-b25c-89d32ec18880",
   "metadata": {},
   "source": [
    "##\n",
    "## The goal of this Jupyter notebook is to Finetune The parameters, in order to run Co-SLAM making sure that we chose the best possible parameter for Each scene.\n",
    "##"
   ]
  },
  {
   "cell_type": "code",
   "execution_count": 13,
   "id": "8842b3ec-7b81-4ff5-8704-9a13bbb7a4a0",
   "metadata": {},
   "outputs": [],
   "source": [
    "from datasets.dataset import ReplicaDataset\n",
    "import config\n",
    "import open3d as o3d\n",
    "import numpy as np\n",
    "import os\n",
    "from tqdm import tqdm\n",
    "from ipywidgets import interact, interactive, fixed, interact_manual\n",
    "import ipywidgets as widgets\n",
    "\n",
    "def reconstruct(path_to_bound, fx, fy, cx, cy, png_depth_scale, depth_trunc, near, far):\n",
    "    cfg = config.load_config(path_to_bound)\n",
    "    dataset = ReplicaDataset(cfg=cfg, basedir=cfg['data']['datadir'])\n",
    "    \n",
    "    H, W = dataset.H, dataset.W\n",
    "    K = o3d.camera.PinholeCameraIntrinsic(W, H, fx, fy, cx, cy)\n",
    "    \n",
    "    voxel_length = 0.005\n",
    "    volume = o3d.pipelines.integration.ScalableTSDFVolume(voxel_length=voxel_length, sdf_trunc=0.04,\n",
    "                                                color_type=o3d.pipelines.integration.TSDFVolumeColorType.RGB8)\n",
    "    for i, frame in tqdm(enumerate(dataset)):\n",
    "        if i % 2 != 0:\n",
    "            continue\n",
    "        rgb, depth = frame[\"rgb\"].cpu().numpy(), frame[\"depth\"].cpu().numpy()\n",
    "        c2w = frame[\"c2w\"].cpu().numpy()\n",
    "        rgb = rgb * 255\n",
    "        rgb = rgb.astype(np.uint8)\n",
    "        rgb = o3d.geometry.Image(rgb)\n",
    "        depth = depth / png_depth_scale  # Scale depth values\n",
    "        depth = depth.astype(np.float32)\n",
    "        depth = o3d.geometry.Image(depth)\n",
    "        rgbd = o3d.geometry.RGBDImage.create_from_color_and_depth(rgb, depth, depth_scale=1.0,\n",
    "                                                                    depth_trunc=depth_trunc,\n",
    "                                                                    convert_rgb_to_intensity=False)\n",
    "        #c2w[:3, 1] *= -1\n",
    "        #c2w[:3, 2] *= -1\n",
    "        #w2c = np.linalg.inv(c2w)\n",
    "\n",
    "        volume.integrate(rgbd, K, c2w)\n",
    "        \n",
    "    print(\"Extracting a triangle mesh from the volume...\")\n",
    "    mesh = volume.extract_triangle_mesh()\n",
    "    mesh.compute_vertex_normals()\n",
    "    \n",
    "    o3d.visualization.draw_geometries([mesh], window_name=\"3D Reconstruction\", width=800, height=800)\n",
    "\n",
    "def create_sliders(path_to_yaml, set_value_fx, set_value_fy, set_value_cx, set_value_cy, set_value_depthscale, set_value_depthtrunc\\\n",
    "                  , set_value_near, set_value_far):\n",
    "    fx_slider = widgets.FloatSlider(min=500, max=2000, step=1, value=set_value_fx, description='fx')\n",
    "    fy_slider = widgets.FloatSlider(min=500, max=2000, step=1, value=set_value_fy, description='fy') \n",
    "    cx_slider = widgets.FloatSlider(min=0, max=800, step=1, value=set_value_cx, description='cx')\n",
    "    cy_slider = widgets.FloatSlider(min=0, max=800, step=1, value=set_value_cy, description='cy')\n",
    "    depth_scale_slider = widgets.FloatSlider(min=0.1, max=10000, step=0.1, value=set_value_depthscale, description='Depth Scale')\n",
    "    depth_trunc_slider = widgets.FloatSlider(min=1, max=100, step=1, value=set_value_depthtrunc, description='Depth Trunc')\n",
    "    near_slider = widgets.FloatSlider(min=0.1, max=10, step=0.1, value=set_value_near, description='Near')  \n",
    "    far_slider = widgets.FloatSlider(min=1, max=100, step=1, value=set_value_far, description='Far')\n",
    "\n",
    "    interact_manual(reconstruct, \n",
    "                    path_to_bound=fixed(path_to_yaml),\n",
    "                    fx=fx_slider, fy=fy_slider, cx=cx_slider, cy=cy_slider,\n",
    "                    png_depth_scale=depth_scale_slider, depth_trunc=depth_trunc_slider,\n",
    "                    near=near_slider, far=far_slider)"
   ]
  },
  {
   "cell_type": "code",
   "execution_count": 14,
   "id": "0a582bfa-2ecb-47f4-b1a0-27a3f8630d87",
   "metadata": {},
   "outputs": [
    {
     "data": {
      "application/vnd.jupyter.widget-view+json": {
       "model_id": "40aa44451e194786b20305e37d90969f",
       "version_major": 2,
       "version_minor": 0
      },
      "text/plain": [
       "interactive(children=(FloatSlider(value=1111.11111, description='fx', max=2000.0, min=500.0, step=1.0), FloatS…"
      ]
     },
     "metadata": {},
     "output_type": "display_data"
    }
   ],
   "source": [
    "create_sliders(path_to_yaml='./configs/nerf/lego.yaml', set_value_fx=1111.11111, set_value_fy=1111.11111,\n",
    "               set_value_cx=400.0000, set_value_cy=400.0000, set_value_depthscale=1.4, set_value_depthtrunc=10.0,\n",
    "               set_value_near=0.1, set_value_far=20)"
   ]
  },
  {
   "cell_type": "code",
   "execution_count": 35,
   "id": "a76c6f7e-fbfd-46b6-9f39-5e6e25924589",
   "metadata": {},
   "outputs": [
    {
     "data": {
      "application/vnd.jupyter.widget-view+json": {
       "model_id": "4f01d0abcd0740c38179f713b9489e22",
       "version_major": 2,
       "version_minor": 0
      },
      "text/plain": [
       "interactive(children=(FloatSlider(value=711.1111, description='fx', max=2000.0, min=500.0, step=1.0), FloatSli…"
      ]
     },
     "metadata": {},
     "output_type": "display_data"
    }
   ],
   "source": [
    "create_sliders(path_to_yaml = './configs/Monkey_model/monkey.yaml', set_value_fx = 711.1111, set_value_fy = 1066.6666, \\\n",
    "               set_value_cx = 256.0000, set_value_cy = 256.0000, set_value_depthscale = 10000.5, set_value_depthtrunc = 100.\\\n",
    "                  , set_value_near = 0, set_value_far = 5)"
   ]
  },
  {
   "cell_type": "code",
   "execution_count": 7,
   "id": "4ac4d1ef-3d3f-4a69-8557-806009b79f0e",
   "metadata": {},
   "outputs": [
    {
     "data": {
      "application/vnd.jupyter.widget-view+json": {
       "model_id": "53cef2f4e84544ce97434f0d0e018c63",
       "version_major": 2,
       "version_minor": 0
      },
      "text/plain": [
       "interactive(children=(FloatSlider(value=1111.11111, description='fx', max=2000.0, min=500.0, step=1.0), FloatS…"
      ]
     },
     "metadata": {},
     "output_type": "display_data"
    }
   ],
   "source": [
    "create_sliders(path_to_yaml='./configs/nerf/chair.yaml', set_value_fx=1111.11111, set_value_fy=1111.11111,\n",
    "               set_value_cx=400.0000, set_value_cy=400.0000, set_value_depthscale=1.4, set_value_depthtrunc=10.0,\n",
    "               set_value_near=0.1, set_value_far=20)"
   ]
  },
  {
   "cell_type": "markdown",
   "id": "cc970d65-35b4-4cda-9057-9b7ee75e04e5",
   "metadata": {},
   "source": [
    "## Inversing depth Images"
   ]
  },
  {
   "cell_type": "code",
   "execution_count": 6,
   "id": "44f86b88-9867-4d4b-a647-4cfc09a6e98c",
   "metadata": {},
   "outputs": [
    {
     "name": "stdout",
     "output_type": "stream",
     "text": [
      "Depth images inverted and saved to the output folder successfully!\n"
     ]
    }
   ],
   "source": [
    "import cv2\n",
    "import os\n",
    "\n",
    "# Specify the folder containing the depth images\n",
    "input_folder = \"./data/lego/results/\"  # Current folder\n",
    "\n",
    "# Specify the output folder for inverted depth images\n",
    "output_folder = \"./data/lego/results_inv/\"\n",
    "\n",
    "# Create the output folder if it doesn't exist\n",
    "if not os.path.exists(output_folder):\n",
    "    os.makedirs(output_folder)\n",
    "\n",
    "# Iterate over all files in the input folder\n",
    "for filename in os.listdir(input_folder):\n",
    "    if filename.startswith(\"depth\") and filename.endswith(\".png\"):\n",
    "        # Read the depth image\n",
    "        image_path = os.path.join(input_folder, filename)\n",
    "        depth_image = cv2.imread(image_path, cv2.IMREAD_GRAYSCALE)\n",
    "        \n",
    "        # Invert the depth values\n",
    "        inverted_depth = cv2.bitwise_not(depth_image)\n",
    "        \n",
    "        # Save the inverted depth image to the output folder\n",
    "        output_path = os.path.join(output_folder, filename)\n",
    "        cv2.imwrite(output_path, inverted_depth)\n",
    "        \n",
    "print(\"Depth images inverted and saved to the output folder successfully!\")"
   ]
  },
  {
   "cell_type": "markdown",
   "id": "88bba8c3-244b-46f0-89eb-f52d5146899d",
   "metadata": {
    "jp-MarkdownHeadingCollapsed": true
   },
   "source": [
    "## Error handling traj.txt file"
   ]
  },
  {
   "cell_type": "code",
   "execution_count": null,
   "id": "0bd36730-d89e-47a0-beca-be64da307761",
   "metadata": {},
   "outputs": [],
   "source": [
    "import os\n",
    "\n",
    "def validate_traj_file():\n",
    "    "
   ]
  },
  {
   "cell_type": "code",
   "execution_count": 17,
   "id": "c4fde716-cc56-4a6e-bd85-3dbd04ca34be",
   "metadata": {},
   "outputs": [
    {
     "name": "stdout",
     "output_type": "stream",
     "text": [
      "traj.txt file is valid.\n"
     ]
    }
   ],
   "source": [
    "import os\n",
    "\n",
    "def validate_traj_file(file_path):\n",
    "    with open(file_path, 'r') as file:\n",
    "        lines = file.readlines()\n",
    "\n",
    "    for line_num, line in enumerate(lines, start=1):\n",
    "        values = line.strip().split()\n",
    "\n",
    "        if len(values) != 16:\n",
    "            print(f\"Error: Line {line_num} does not contain 16 values.\")\n",
    "            return False\n",
    "\n",
    "        if '\\t' in line:\n",
    "            print(f\"Error: Line {line_num} uses tab separation instead of space.\")\n",
    "            return False\n",
    "\n",
    "        for value in values:\n",
    "            try:\n",
    "                float(value)\n",
    "            except ValueError:\n",
    "                print(f\"Error: Line {line_num} contains a non-numeric value: {value}\")\n",
    "                return False\n",
    "\n",
    "            # if 'e' in value.lower():\n",
    "            #     print(f\"Warning: Line {line_num} contains a value in scientific notation: {value}\")\n",
    "\n",
    "    print(\"traj.txt file is valid.\")\n",
    "    return True"
   ]
  },
  {
   "cell_type": "code",
   "execution_count": null,
   "id": "27818580-90f0-4414-a280-adb69d2e41d3",
   "metadata": {},
   "outputs": [],
   "source": [
    "traj_file_path = './data/SyntheticData/chair/traj.txt'\n",
    "\n",
    "if os.path.exists(traj_file_path):\n",
    "    is_valid = validate_traj_file(traj_file_path)\n",
    "else:\n",
    "    print(f\"Error: File not found at {traj_file_path}\")"
   ]
  },
  {
   "cell_type": "code",
   "execution_count": null,
   "id": "4f85ce2d-9ac7-4d84-afd9-b16b83cbc6fc",
   "metadata": {},
   "outputs": [],
   "source": []
  },
  {
   "cell_type": "code",
   "execution_count": 18,
   "id": "6acc77d8-55b6-468a-b484-bb7f1e58fe62",
   "metadata": {},
   "outputs": [
    {
     "name": "stdout",
     "output_type": "stream",
     "text": [
      "traj.txt file is valid.\n"
     ]
    }
   ],
   "source": [
    "traj_file_path = './data/Monkey_rotating/traj.txt'\n",
    "\n",
    "if os.path.exists(traj_file_path):\n",
    "    is_valid = validate_traj_file(traj_file_path)\n",
    "else:\n",
    "    print(f\"Error: File not found at {traj_file_path}\")"
   ]
  },
  {
   "cell_type": "code",
   "execution_count": 21,
   "id": "8aa3dd6b-b3eb-4dfd-a5e9-b56afaa5c7ee",
   "metadata": {},
   "outputs": [
    {
     "name": "stdout",
     "output_type": "stream",
     "text": [
      "traj.txt file is valid.\n"
     ]
    }
   ],
   "source": [
    "traj_file_path = './data/resulting_teabox_exr/traj.txt'\n",
    "\n",
    "if os.path.exists(traj_file_path):\n",
    "    is_valid = validate_traj_file(traj_file_path)\n",
    "else:\n",
    "    print(f\"Error: File not found at {traj_file_path}\")"
   ]
  },
  {
   "cell_type": "code",
   "execution_count": null,
   "id": "38517fd8-8a33-4f69-83d7-8572a5132d03",
   "metadata": {},
   "outputs": [],
   "source": []
  },
  {
   "cell_type": "code",
   "execution_count": null,
   "id": "06acda94-1666-4ea9-83b2-59b77578a22c",
   "metadata": {},
   "outputs": [],
   "source": []
  },
  {
   "cell_type": "code",
   "execution_count": 22,
   "id": "5bcc398f-d6aa-46d8-beb6-1d8d916104ca",
   "metadata": {},
   "outputs": [
    {
     "name": "stdout",
     "output_type": "stream",
     "text": [
      "Checking file: ./data/resulting_teabox_exr/traj.txt\n",
      "Multiple spaces check completed.\n",
      "\n",
      "Checking file: ./data/Monkey_rotating/traj.txt\n",
      "Multiple spaces check completed.\n",
      "\n"
     ]
    }
   ],
   "source": [
    "import os\n",
    "\n",
    "def check_multiple_spaces(file_path):\n",
    "    with open(file_path, 'r') as file:\n",
    "        lines = file.readlines()\n",
    "\n",
    "    for line_num, line in enumerate(lines, start=1):\n",
    "        values = line.strip().split()\n",
    "\n",
    "        for i in range(len(values) - 1):\n",
    "            if values[i].endswith(' ') or values[i+1].startswith(' '):\n",
    "                print(f\"Warning: Line {line_num} contains multiple spaces between numbers.\")\n",
    "                break\n",
    "\n",
    "    print(\"Multiple spaces check completed.\")\n",
    "\n",
    "# Specify the paths to your trajectory files\n",
    "traj_file_paths = [\n",
    "    './data/resulting_teabox_exr/traj.txt',\n",
    "    './data/Monkey_rotating/traj.txt'\n",
    "]\n",
    "\n",
    "for traj_file_path in traj_file_paths:\n",
    "    if os.path.exists(traj_file_path):\n",
    "        print(f\"Checking file: {traj_file_path}\")\n",
    "        check_multiple_spaces(traj_file_path)\n",
    "        print()\n",
    "    else:\n",
    "        print(f\"Error: File not found at {traj_file_path}\")\n",
    "        print()"
   ]
  },
  {
   "cell_type": "code",
   "execution_count": null,
   "id": "5f42e8cf-461a-4278-b5bb-4ac718fea8f1",
   "metadata": {},
   "outputs": [],
   "source": []
  },
  {
   "cell_type": "markdown",
   "id": "c6f95485-1de2-4304-b1a6-9ed338383d1f",
   "metadata": {
    "jp-MarkdownHeadingCollapsed": true
   },
   "source": [
    "## Visualisation of the trajectory"
   ]
  },
  {
   "cell_type": "code",
   "execution_count": 39,
   "id": "a1743d2b-5600-4046-9e73-a6cb1b19d662",
   "metadata": {},
   "outputs": [],
   "source": [
    "import numpy as np\n",
    "import matplotlib.pyplot as plt\n",
    "from mpl_toolkits.mplot3d import Axes3D\n",
    "from ipywidgets import interactive, IntSlider, fixed\n",
    "%matplotlib inline\n",
    "%config InlineBackend.figure_format = 'retina'\n",
    "\n",
    "def read_trajectory(file_path):\n",
    "    with open(file_path, 'r') as file:\n",
    "        lines = file.readlines()\n",
    "    \n",
    "    poses = []\n",
    "    for i in range(0, len(lines), 4):\n",
    "        matrix = np.array([list(map(float, line.split())) for line in lines[i:i+4]])\n",
    "        poses.append(matrix)\n",
    "    \n",
    "    return np.array(poses)\n",
    "\n",
    "def read_trajectory_(file_path):\n",
    "    with open(file_path, 'r') as file:\n",
    "        lines = file.readlines()\n",
    "    \n",
    "    poses = []\n",
    "    for i in range(0, len(lines), 4):\n",
    "        matrix_lines = lines[i:i+4]\n",
    "        if len(matrix_lines) == 4:\n",
    "            matrix = []\n",
    "            for line in matrix_lines:\n",
    "                values = list(map(float, line.split()))\n",
    "                if len(values) == 4:\n",
    "                    matrix.append(values)\n",
    "            if len(matrix) == 4:\n",
    "                poses.append(np.array(matrix))\n",
    "    \n",
    "    return np.array(poses)\n",
    "\n",
    "def plot_trajectory(poses, frame=0):\n",
    "    positions = poses[:, :3, 3]\n",
    "    orientations = poses[:, :3, :3]\n",
    "    \n",
    "    fig = plt.figure(figsize=(12, 10))\n",
    "    ax = fig.add_subplot(111, projection='3d')\n",
    "    \n",
    "    # Plot the trajectory\n",
    "    ax.plot(positions[:, 0], positions[:, 1], positions[:, 2], 'b-')\n",
    "    \n",
    "    # Plot start and end points\n",
    "    ax.scatter(positions[0, 0], positions[0, 1], positions[0, 2], c='g', s=100, label='Start')\n",
    "    ax.scatter(positions[-1, 0], positions[-1, 1], positions[-1, 2], c='r', s=100, label='End')\n",
    "    \n",
    "    # Plot current position and orientation\n",
    "    pos = positions[frame]\n",
    "    orient = orientations[frame]\n",
    "    arrow_length = 0.5\n",
    "    \n",
    "    ax.quiver(pos[0], pos[1], pos[2], orient[0, 0], orient[1, 0], orient[2, 0], color='r', length=arrow_length, label='X')\n",
    "    ax.quiver(pos[0], pos[1], pos[2], orient[0, 1], orient[1, 1], orient[2, 1], color='g', length=arrow_length, label='Y')\n",
    "    ax.quiver(pos[0], pos[1], pos[2], orient[0, 2], orient[1, 2], orient[2, 2], color='b', length=arrow_length, label='Z')\n",
    "    \n",
    "    # Set labels and title\n",
    "    ax.set_xlabel('X')\n",
    "    ax.set_ylabel('Y')\n",
    "    ax.set_zlabel('Z')\n",
    "    ax.set_title(f'Camera Trajectory (Frame {frame})')\n",
    "    \n",
    "    # Add legend\n",
    "    ax.legend()\n",
    "    \n",
    "    plt.tight_layout()\n",
    "    plt.show()"
   ]
  },
  {
   "cell_type": "code",
   "execution_count": 40,
   "id": "b0e936fb-0c3e-460b-b3e7-f1a58b29ab8f",
   "metadata": {},
   "outputs": [
    {
     "data": {
      "application/vnd.jupyter.widget-view+json": {
       "model_id": "31806125e7ef4bcabbbc156806604da7",
       "version_major": 2,
       "version_minor": 0
      },
      "text/plain": [
       "interactive(children=(IntSlider(value=0, description='Frame', max=49), Output()), _dom_classes=('widget-intera…"
      ]
     },
     "metadata": {},
     "output_type": "display_data"
    }
   ],
   "source": [
    "# Load the trajectory data\n",
    "file_path = './data/SyntheticData/chair/traj.txt'\n",
    "poses = read_trajectory(file_path)\n",
    "\n",
    "# Create an interactive plot\n",
    "interactive_plot = interactive(plot_trajectory, \n",
    "                               poses=fixed(poses), \n",
    "                               frame=IntSlider(min=0, max=len(poses)-1, step=1, value=0, description='Frame'))\n",
    "display(interactive_plot)"
   ]
  },
  {
   "cell_type": "code",
   "execution_count": null,
   "id": "67be5ff7-de90-400a-b6fb-054e7cf9b5f9",
   "metadata": {},
   "outputs": [],
   "source": []
  },
  {
   "cell_type": "code",
   "execution_count": null,
   "id": "070f9aad-2610-4a78-9509-d3601ab809dc",
   "metadata": {},
   "outputs": [],
   "source": []
  },
  {
   "cell_type": "code",
   "execution_count": null,
   "id": "8de52fcb-52ee-42af-9514-93e655f88b3c",
   "metadata": {},
   "outputs": [],
   "source": []
  },
  {
   "cell_type": "code",
   "execution_count": null,
   "id": "e8957c26-0bbe-40c0-880a-c393b4a2e7b1",
   "metadata": {},
   "outputs": [],
   "source": []
  },
  {
   "cell_type": "code",
   "execution_count": null,
   "id": "854945f5-4ead-443e-9fd3-54f65b97571a",
   "metadata": {},
   "outputs": [],
   "source": []
  },
  {
   "cell_type": "code",
   "execution_count": 11,
   "id": "6fbffd5e-6128-41a2-808d-5998ad452c15",
   "metadata": {},
   "outputs": [],
   "source": [
    "import numpy as np\n",
    "import plotly.graph_objects as go\n",
    "from ipywidgets import interactive, IntSlider\n",
    "from plotly.subplots import make_subplots\n",
    "\n",
    "def read_trajectory(file_path):\n",
    "    with open(file_path, 'r') as file:\n",
    "        lines = file.readlines()\n",
    "    \n",
    "    poses = []\n",
    "    for i in range(0, len(lines), 4):\n",
    "        matrix = np.array([list(map(float, line.split())) for line in lines[i:i+4]])\n",
    "        poses.append(matrix)\n",
    "    \n",
    "    return np.array(poses)\n",
    "\n",
    "def plot_trajectory(frame=0):\n",
    "    positions = poses[:, :3, 3]\n",
    "    orientations = poses[:, :3, :3]\n",
    "    \n",
    "    fig = make_subplots(rows=1, cols=1, specs=[[{'type': 'scene'}]])\n",
    "    \n",
    "    # Plot the trajectory\n",
    "    fig.add_trace(go.Scatter3d(x=positions[:, 0], y=positions[:, 1], z=positions[:, 2],\n",
    "                               mode='lines', line=dict(color='blue', width=2),\n",
    "                               name='Trajectory'))\n",
    "    \n",
    "    # Plot start and end points\n",
    "    fig.add_trace(go.Scatter3d(x=[positions[0, 0]], y=[positions[0, 1]], z=[positions[0, 2]],\n",
    "                               mode='markers', marker=dict(size=5, color='green'),\n",
    "                               name='Start'))\n",
    "    fig.add_trace(go.Scatter3d(x=[positions[-1, 0]], y=[positions[-1, 1]], z=[positions[-1, 2]],\n",
    "                               mode='markers', marker=dict(size=5, color='red'),\n",
    "                               name='End'))\n",
    "    \n",
    "    # Plot current position and orientation\n",
    "    pos = positions[frame]\n",
    "    orient = orientations[frame]\n",
    "    arrow_length = 0.5\n",
    "    \n",
    "    for i, color in enumerate(['red', 'green', 'blue']):\n",
    "        fig.add_trace(go.Scatter3d(x=[pos[0], pos[0] + arrow_length * orient[0, i]],\n",
    "                                   y=[pos[1], pos[1] + arrow_length * orient[1, i]],\n",
    "                                   z=[pos[2], pos[2] + arrow_length * orient[2, i]],\n",
    "                                   mode='lines', line=dict(color=color, width=3),\n",
    "                                   name=f'{\"XYZ\"[i]}-axis'))\n",
    "    \n",
    "    # Set layout\n",
    "    fig.update_layout(scene=dict(\n",
    "                        xaxis_title='X',\n",
    "                        yaxis_title='Y',\n",
    "                        zaxis_title='Z',\n",
    "                        aspectmode='data'),\n",
    "                      title=f'Camera Trajectory (Frame {frame})',\n",
    "                      height=800,\n",
    "                      width=800)\n",
    "    \n",
    "    fig.show()"
   ]
  },
  {
   "cell_type": "code",
   "execution_count": 12,
   "id": "a9677fa1-1375-468d-a60e-5e789cd45dfd",
   "metadata": {},
   "outputs": [
    {
     "data": {
      "application/vnd.jupyter.widget-view+json": {
       "model_id": "f766770dc3ac4b05970addbb3d209021",
       "version_major": 2,
       "version_minor": 0
      },
      "text/plain": [
       "interactive(children=(IntSlider(value=0, description='Frame', max=49), Output()), _dom_classes=('widget-intera…"
      ]
     },
     "metadata": {},
     "output_type": "display_data"
    }
   ],
   "source": [
    "# Load the trajectory data\n",
    "file_path = './data/SyntheticData/chair/traj.txt'\n",
    "poses = read_trajectory(file_path)\n",
    "\n",
    "# Create an interactive plot\n",
    "interactive_plot = interactive(plot_trajectory, \n",
    "                               frame=IntSlider(min=0, max=len(poses)-1, step=1, value=0, description='Frame'))\n",
    "display(interactive_plot)"
   ]
  },
  {
   "cell_type": "markdown",
   "id": "fed7ff8e-f3e1-42ca-a808-b4fc98da2e42",
   "metadata": {
    "jp-MarkdownHeadingCollapsed": true
   },
   "source": [
    "## Try out the chosen Parameters."
   ]
  },
  {
   "cell_type": "code",
   "execution_count": 10,
   "id": "b5e8c20f-ad5d-4eb6-b39d-73e64991739c",
   "metadata": {},
   "outputs": [
    {
     "data": {
      "text/plain": [
       "0"
      ]
     },
     "execution_count": 10,
     "metadata": {},
     "output_type": "execute_result"
    }
   ],
   "source": [
    "from datasets.dataset import ReplicaDataset\n",
    "import config\n",
    "import open3d as o3d\n",
    "import numpy as np\n",
    "import os\n",
    "from tqdm import tqdm\n",
    "\n",
    "path_to_bound = './configs/nerf/lego.yaml'\n",
    "cfg = config.load_config(path_to_bound)\n",
    "\n",
    "dataset = ReplicaDataset(cfg=cfg, basedir=cfg['data']['datadir'])\n",
    "\n",
    "\n",
    "H, W = dataset.H, dataset.W\n",
    "fx, fy, cx, cy = dataset.fx, dataset.fy, dataset.cx, dataset.cy\n",
    "K = o3d.camera.PinholeCameraIntrinsic(W, H, fx, fy, cx, cy)\n",
    "voxel_length = 0.005\n",
    "volume = o3d.pipelines.integration.ScalableTSDFVolume(voxel_length=voxel_length, sdf_trunc=0.04,\n",
    "                                            color_type=o3d.pipelines.integration.TSDFVolumeColorType.RGB8)\n",
    "\n",
    "len(dataset)"
   ]
  },
  {
   "cell_type": "code",
   "execution_count": null,
   "id": "ca141cbd-fa15-4158-99e3-5bdd70e65ccc",
   "metadata": {},
   "outputs": [],
   "source": [
    "for i, frame in tqdm(enumerate(dataset)):\n",
    "    if i % 2 != 0:\n",
    "         continue\n",
    "    rgb, depth = frame[\"rgb\"].cpu().numpy(), frame[\"depth\"].cpu().numpy()\n",
    "    c2w = frame[\"c2w\"].cpu().numpy()\n",
    "    rgb = rgb * 255\n",
    "    rgb = rgb.astype(np.uint8)\n",
    "    rgb = o3d.geometry.Image(rgb)\n",
    "    depth = depth.astype(np.float32)\n",
    "    depth = o3d.geometry.Image(depth)\n",
    "    rgbd = o3d.geometry.RGBDImage.create_from_color_and_depth(rgb, depth, depth_scale=1.4,\n",
    "                                                                depth_trunc=20.0,\n",
    "                                                                convert_rgb_to_intensity=False)\n",
    "    #c2w[:3, 1] *= -1\n",
    "    #c2w[:3, 2] *= -1\n",
    "    c2w[:3, 3] *= -1\n",
    "    w2c = np.linalg.inv(c2w)\n",
    "\n",
    "    \n",
    "    # requires w2c\n",
    "    volume.integrate(rgbd, K, w2c)\n",
    "\n",
    "print(\"Extract a triangle mesh from the volume and visualize it.\")\n",
    "mesh = volume.extract_triangle_mesh()\n",
    "mesh.compute_vertex_normals()\n",
    "\n",
    "\n",
    "o3d.visualization.draw_geometries([mesh], window_name=\"3D Reconstruction\", width=800, height=800)"
   ]
  }
 ],
 "metadata": {
  "kernelspec": {
   "display_name": "Python 3 (ipykernel)",
   "language": "python",
   "name": "python3"
  },
  "language_info": {
   "codemirror_mode": {
    "name": "ipython",
    "version": 3
   },
   "file_extension": ".py",
   "mimetype": "text/x-python",
   "name": "python",
   "nbconvert_exporter": "python",
   "pygments_lexer": "ipython3",
   "version": "3.11.7"
  }
 },
 "nbformat": 4,
 "nbformat_minor": 5
}

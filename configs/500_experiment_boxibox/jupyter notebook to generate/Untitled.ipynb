{
 "cells": [
  {
   "cell_type": "code",
   "execution_count": null,
   "id": "69f66dcc-89c9-452f-91a3-216f0adba14d",
   "metadata": {},
   "outputs": [],
   "source": [
    "import yaml\n",
    "import itertools\n",
    "import os\n",
    "\n",
    "def generate_configs():\n",
    "    # Define the parameter ranges\n",
    "    params = {\n",
    "        'mapping.initial_lr_embed': [0.0001, 0.001, 0.01, 0.1],\n",
    "        'mapping.initial_lr_decoder': [0.0001, 0.001, 0.01, 0.1],\n",
    "        'mapping.initial_lr_rot': [0.0001, 0.001, 0.01, 0.1],\n",
    "        'mapping.initial_lr_trans': [0.0001, 0.001, 0.01, 0.1],\n",
    "        'mapping.filter_depth': [False, True],\n",
    "        'mapping.keyframe_every': [1, 5, 10],\n",
    "        'tracking.initial_lr_rot': [0.0001, 0.001, 0.01, 0.1],\n",
    "        'tracking.initial_lr_trans': [0.0001, 0.001, 0.01, 0.1],\n",
    "    }\n",
    "\n",
    "    # Load the base configuration\n",
    "    with open('base_config.yaml', 'r') as f:\n",
    "        base_config = yaml.safe_load(f)\n",
    "\n",
    "    # Generate all combinations of parameters\n",
    "    keys, values = zip(*params.items())\n",
    "    experiments = [dict(zip(keys, v)) for v in itertools.product(*values)]\n",
    "\n",
    "    # Create output directory\n",
    "    os.makedirs('configs/box_experiments', exist_ok=True)\n",
    "\n",
    "    # Generate config files for each experiment\n",
    "    for i, exp in enumerate(experiments):\n",
    "        config = base_config.copy()\n",
    "        config['data']['output'] = f\"output/box_experiments/exp_{i}\"\n",
    "        config['data']['exp_name'] = f\"exp_{i}\"\n",
    "\n",
    "        for key, value in exp.items():\n",
    "            section, param = key.split('.')\n",
    "            if section not in config:\n",
    "                config[section] = {}\n",
    "            config[section][param] = value\n",
    "\n",
    "        # Write the config file\n",
    "        with open(f'configs/box_experiments/exp_{i}.yaml', 'w') as f:\n",
    "            f.write(f\"inherit_from: configs/box_experiments/base_config.yaml\\n\\n\")\n",
    "            yaml.dump(config, f, default_flow_style=False)\n",
    "\n",
    "    print(f\"Generated {len(experiments)} experiment configurations.\")\n",
    "\n",
    "if __name__ == \"__main__\":\n",
    "    generate_configs()"
   ]
  }
 ],
 "metadata": {
  "kernelspec": {
   "display_name": "Python 3 (ipykernel)",
   "language": "python",
   "name": "python3"
  },
  "language_info": {
   "codemirror_mode": {
    "name": "ipython",
    "version": 3
   },
   "file_extension": ".py",
   "mimetype": "text/x-python",
   "name": "python",
   "nbconvert_exporter": "python",
   "pygments_lexer": "ipython3",
   "version": "3.11.7"
  }
 },
 "nbformat": 4,
 "nbformat_minor": 5
}
